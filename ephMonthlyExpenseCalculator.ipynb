{
  "nbformat": 4,
  "nbformat_minor": 0,
  "metadata": {
    "colab": {
      "provenance": [],
      "toc_visible": true,
      "authorship_tag": "ABX9TyPKKwSbCaXLGRI+V9zgu9kr",
      "include_colab_link": true
    },
    "kernelspec": {
      "name": "python3",
      "display_name": "Python 3"
    },
    "language_info": {
      "name": "python"
    }
  },
  "cells": [
    {
      "cell_type": "markdown",
      "metadata": {
        "id": "view-in-github",
        "colab_type": "text"
      },
      "source": [
        "<a href=\"https://colab.research.google.com/github/eriphar/monthly-expense-tracker/blob/main/ephMonthlyExpenseCalculator.ipynb\" target=\"_parent\"><img src=\"https://colab.research.google.com/assets/colab-badge.svg\" alt=\"Open In Colab\"/></a>"
      ]
    },
    {
      "cell_type": "markdown",
      "source": [
        "# Monthly Expense Tracker Overview\n",
        "![budget-158926_110_eph.png](data:image/png;base64,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)\n",
        "\n",
        "Date Written:\n",
        "2024-12-15\n",
        "\n",
        "Version:\n",
        "1\n",
        "\n",
        "Author:\n",
        "Erica P Harris\n",
        "\n",
        "Description:\n",
        "\n",
        "This Python script is a basic monthly expense tracker.\n",
        "\n",
        "Features:\n",
        "* Takes user input for the month they want to track expenses for.\n",
        "* Validates the month input to ensure it's a valid month name.\n",
        "* Takes user input for expenses in various categories; rent, groceries, utilities, etc.\n",
        "* Validates the expense input to ensure only numbers used for the expenses\n",
        "* Calculates and displays the total monthly expenses.\n",
        "\n",
        "\n",
        "Current Status:\n",
        "\n",
        "The script currently handles input, validation, and calculation for a single month for four expense categories (rent, groceries, utilities, other). The functionality to gracefully exit the script is still under development.\n",
        "\n",
        "\n",
        "How to Use:\n",
        "1. Run the Python script.\n",
        "2. Follow the prompts to add, view, or remove tasks.\n",
        "3. Type \"Exit\" to end the program\n",
        "\n",
        "\n",
        "Example:\n",
        "* Run the script using a Python interpreter.\n",
        "* Enter the month for which you want to calculate expenses.\n",
        "* Enter the expenses  associated with that month\n",
        "\n",
        "\n",
        "Notes:\n",
        "* Month names are case-sensitive.\n",
        "* The expenses are stored in memory and will be lost when the program exits.\n",
        "\n",
        "\n",
        "Future Enhancements:\n",
        "* Accept dynamic input for multiple months and customized expenses; for example, the user may enter as many expense categories and the associated expense values\n",
        "* Potentially store expense data in a file for future reference.\n",
        "\n",
        "\n",
        "Future Enhancements:\n",
        "\n",
        "- Accept dynamic input for multiple months and customized expenses; for example, the user may enter as many expense categories and the associated expense values\n",
        "- Potentially store expense data in a file for future reference.\n"
      ],
      "metadata": {
        "id": "HCLZ2-AU1nhs"
      }
    },
    {
      "cell_type": "markdown",
      "source": [
        "# Import Libraries"
      ],
      "metadata": {
        "id": "COboblEy3S70"
      }
    },
    {
      "cell_type": "code",
      "source": [
        "import sys"
      ],
      "metadata": {
        "id": "XI8R7-AuGjpv"
      },
      "execution_count": null,
      "outputs": []
    },
    {
      "cell_type": "markdown",
      "source": [
        "# Declarations"
      ],
      "metadata": {
        "id": "Wn4L8Ym1Cgbx"
      }
    },
    {
      "cell_type": "code",
      "source": [
        "expenseMonth = \"Invalid month\" #month for which to calculate expenses\n",
        "expenseRent = 0.0 #expense for rent\n",
        "expenseGroceries = 0.0 #expense for groceeris\n",
        "expenseUtilities = 0.0 #expense for utilities\n",
        "expenseOthers = 0.0 #other expenses\n",
        "expenseTotal = 0.0 #total expense for the month"
      ],
      "metadata": {
        "id": "YtTzMGkGCl7E"
      },
      "execution_count": null,
      "outputs": []
    },
    {
      "cell_type": "markdown",
      "source": [
        "# Functions"
      ],
      "metadata": {
        "id": "47Yy7XEE8PY0"
      }
    },
    {
      "cell_type": "code",
      "source": [
        "# Checks for valid month input\n",
        "def getCurrentMonth(parMonth):\n",
        "  if parMonth in [\"January\", \"February\", \"March\", \"April\", \"May\", \"June\", \"July\", \"August\", \"September\", \"October\", \"November\", \"December\"]:\n",
        "    return parMonth\n",
        "  else:\n",
        "    #print(f\"{parMonth} is an invalid month\")\n",
        "    return \"Invalid month\"\n",
        "\n",
        "# Checks for valid input for rent\n",
        "#def getRent(parRent):\n",
        "#  print(\"Type 1\", type(parRent))\n",
        "#  try:\n",
        "#    theRent = float(parRent)\n",
        "#    print(\"Type 2\", type(theRent))\n",
        "#    return theRent\n",
        "#  except ValueError:\n",
        "#    print(f\"{parRent} is an invalid rent\")\n",
        "#    return \"Invalid rent\"\n",
        "\n",
        " # Checks for valid input for expenses\n",
        "def getExpense(parExpense):\n",
        "  if parExpense == \"exit\":\n",
        "    print(\"Ok, let's try that later.\")\n",
        "    sys.exit() #end script\n",
        "  else:\n",
        "    try:\n",
        "      theExpense = float(parExpense)\n",
        "      return theExpense\n",
        "    except ValueError:\n",
        "      print(f\"{parExpense} is an invalid value\")\n",
        "      return \"Invalid expense\"\n",
        "\n",
        "#Calculate total expenses for the specified month\n",
        "def calcTotalExpenses(parRent, parGroceries, parUtilities, parOthers):\n",
        "  return parRent + parGroceries + parUtilities + parOthers\n"
      ],
      "metadata": {
        "id": "zYHWVZP_8TH-"
      },
      "execution_count": null,
      "outputs": []
    },
    {
      "cell_type": "markdown",
      "source": [
        "# Main Code Flow"
      ],
      "metadata": {
        "id": "AV04NpxQ3lEs"
      }
    },
    {
      "cell_type": "code",
      "source": [
        "\n",
        "print(\"Welcome to the Expense Calculator! Type 'exit' to end the program\")\n",
        "print(\"Let's get started.\")\n",
        "print(\"---------------------\")\n",
        "\n",
        "#get current month for which to calculate expenses\n",
        "while expenseMonth == \"Invalid month\":\n",
        "  whichMonth = input(\"Which month's expenses do you want to calculate? \")\n",
        "\n",
        "  #exit condition\n",
        "  if whichMonth == \"exit\":\n",
        "    print(\"Ok, we can do this another time.\")\n",
        "    sys.exit() #end script\n",
        "  else:\n",
        "    expenseMonth = getCurrentMonth(whichMonth)\n",
        "    #print(expenseMonth)\n",
        "\n",
        "#get the rent for the specified month\n",
        "#print(\"expenseRent: \", expenseRent)\n",
        "\n",
        "#The line below is no longer needed because the individual functions to get the expenses\n",
        "#was optimized to a single functions\n",
        "#while expenseRent == \"Invalid rent\" or expenseRent == 0.0:\n",
        "while expenseRent == \"Invalid expense\" or expenseRent == 0.0:\n",
        "  #The local variable theRent is no longer needed and would be a redundant call\n",
        "  #theRent = getRent(input(f\"How much is the rent for {expenseMonth}? \"))\n",
        "  #theRent = getExpense(input(f\"How much is the rent for {expenseMonth}? \"))\n",
        "\n",
        "  #This IF statement is not needed because it was added to the getExpenses function\n",
        "  #if theRent == \"exit\":\n",
        "  #  print(\"Ok, let's try that later.\")\n",
        "  #  sys.exit() #end script\n",
        "  # else:\n",
        "  #  #expenseRent = getRent(theRent)\n",
        "  #  expenseRent = getExpense(theRent)\n",
        "  #  print(expenseRent)\n",
        "\n",
        "  #expenseRent = getExpense(theRent)\n",
        "  expenseRent = getExpense(input(f\"How much is the rent for {expenseMonth}? \"))\n",
        "  #print(expenseRent)\n",
        "\n",
        "#get the grocery bill for the specified month\n",
        "#print(\"expenseGroceries: \", expenseGroceries)\n",
        "while expenseGroceries == \"Invalid expense\" or expenseGroceries == 0.0:\n",
        "  #theGroceries = getExpense(input(f\"How much did you spend on groceries for {expenseMonth}? \"))\n",
        "\n",
        "  #if theGroceries == \"exit\":\n",
        "  #  print(\"Ok, let's try that later.\")\n",
        "  #  sys.exit() #end script\n",
        "  #else:\n",
        "  #  expenseGroceries = getExpense(theGroceries)\n",
        "  #  print(expenseGroceries)\n",
        "\n",
        "  #expenseGroceries = getExpense(theGroceries)\n",
        "  expenseGroceries = getExpense(input(f\"How much did you spend on groceries for {expenseMonth}? \"))\n",
        "  #print(expenseGroceries)\n",
        "\n",
        "#get the utility bills for the specified month\n",
        "#print(\"expenseUtilities: \", expenseUtilities)\n",
        "while expenseUtilities == \"Invalid expense\" or expenseUtilities == 0.0:\n",
        "  #theUtilities = getExpense(input(f\"How much were the utilities for {expenseMonth}? \"))\n",
        "\n",
        "  #if theUtilities == \"exit\":\n",
        "  #  print(\"Ok, let's try that later.\")\n",
        "  #  sys.exit() #end script\n",
        "  #else:\n",
        "  #  expenseUtilities = getExpense(theUtilities)\n",
        "  #  print(expenseUtilities)\n",
        "\n",
        "  #expenseUtilities = getExpense(theUtilities)\n",
        "  expenseUtilities = getExpense(input(f\"How much were the utilities for {expenseMonth}? \"))\n",
        "  #print(expenseUtilities)\n",
        "\n",
        "#get the other expenses for the specified month\n",
        "#print(\"expenseOthers: \", expenseOthers)\n",
        "while expenseOthers == \"Invalid expense\" or expenseOthers == 0.0:\n",
        "  #theOtherExpenses = getExpense(input(f\"How much were the other expenses for {expenseMonth}? \"))\n",
        "\n",
        "  #expenseOthers = getExpense(theOtherExpenses)\n",
        "  expenseOthers = getExpense(input(f\"How much were the other expenses for {expenseMonth}? \"))\n",
        "  #print(theOtherExpenses)\n",
        "\n",
        "#Calculate and print the total expenses\n",
        "expenseTotal = calcTotalExpenses(expenseRent, expenseGroceries, expenseUtilities, expenseOthers)\n",
        "print(f\"The total expenses for {expenseMonth} are ${expenseTotal:.2f}\") #print total\n"
      ],
      "metadata": {
        "colab": {
          "base_uri": "https://localhost:8080/",
          "height": 231
        },
        "id": "MCji_FCP1q-Y",
        "outputId": "7a9b0453-c515-449b-b222-325c45ce860b"
      },
      "execution_count": null,
      "outputs": [
        {
          "output_type": "stream",
          "name": "stdout",
          "text": [
            "Welcome to the Expense Calculator! Type 'exit' to end the program\n",
            "Let's get started.\n",
            "---------------------\n",
            "How much is the rent for January? exit\n",
            "Ok, let's try that later.\n"
          ]
        },
        {
          "output_type": "error",
          "ename": "SystemExit",
          "evalue": "",
          "traceback": [
            "An exception has occurred, use %tb to see the full traceback.\n",
            "\u001b[0;31mSystemExit\u001b[0m\n"
          ]
        },
        {
          "output_type": "stream",
          "name": "stderr",
          "text": [
            "/usr/local/lib/python3.10/dist-packages/IPython/core/interactiveshell.py:3561: UserWarning: To exit: use 'exit', 'quit', or Ctrl-D.\n",
            "  warn(\"To exit: use 'exit', 'quit', or Ctrl-D.\", stacklevel=1)\n"
          ]
        }
      ]
    },
    {
      "cell_type": "code",
      "source": [],
      "metadata": {
        "id": "z_wtZsSL72et"
      },
      "execution_count": null,
      "outputs": []
    }
  ]
}